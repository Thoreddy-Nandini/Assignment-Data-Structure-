{
  "nbformat": 4,
  "nbformat_minor": 0,
  "metadata": {
    "colab": {
      "provenance": []
    },
    "kernelspec": {
      "name": "python3",
      "display_name": "Python 3"
    },
    "language_info": {
      "name": "python"
    }
  },
  "cells": [
    {
      "cell_type": "markdown",
      "source": [
        "1. What are data structures, and why are they important."
      ],
      "metadata": {
        "id": "f6DJt5_6s_9f"
      }
    },
    {
      "cell_type": "markdown",
      "source": [
        "A. Data structures are ways of organizing and storing data in a computer so that it can be accessed and used efficiently. They define the layout and relationship of data elements.\n",
        "\n",
        "Common examples:\n",
        "\n",
        "List / Array - stores elements in a sequence\n",
        "\n",
        "Tuple - an immutable sequence\n",
        "\n",
        "Set - a collection of unique elements\n",
        "\n",
        "Dictionary / HashMap - key-value pairs\n",
        "\n",
        "Stack, Queue, Linked List, Tree, Graph - more advanced structures\n",
        "\n",
        "**Data Structures are important because they includes the following features:**\n",
        "\n",
        "**Efficient Data Access:**\n",
        "They help retrieve, insert, or delete data quickly.\n",
        "\n",
        "**Better Performance:**\n",
        "Choosing the right structure improves speed and memory usage.\n",
        "\n",
        "**Organized Data:**\n",
        "They help keep data well-organized and easy to manage.\n",
        "\n",
        "**Problem Solving:**\n",
        "Many algorithms rely on data structures (like trees or graphs) to solve complex problems.\n",
        "\n",
        "**Foundation for Algorithms:**\n",
        "Understanding data structures is essential for writing efficient algorithms.\n"
      ],
      "metadata": {
        "id": "0ztU1R5jtKxM"
      }
    },
    {
      "cell_type": "markdown",
      "source": [
        "2.  Explain the difference between mutable and immutable data types with examples."
      ],
      "metadata": {
        "id": "W_MqYJjJuq8u"
      }
    },
    {
      "cell_type": "markdown",
      "source": [
        "A. A mutable data type can be changed after it is created. You can modify, add, or remove elements without creating a new object.\n",
        "\n",
        "Examples of mutable types: List, Set\n",
        "\n",
        "An immutable data type cannot be changed after it is created. Any change creates a new object.\n",
        "\n",
        "Examples of immutable types: String, Tuple\n"
      ],
      "metadata": {
        "id": "RcBYQ9qSuyoU"
      }
    },
    {
      "cell_type": "code",
      "source": [
        "#Mutable Data Type:\n",
        "list = [\"apple\", \"orange\", \"banana\"]"
      ],
      "metadata": {
        "id": "J7GPYVUyt885"
      },
      "execution_count": null,
      "outputs": []
    },
    {
      "cell_type": "code",
      "source": [
        "list"
      ],
      "metadata": {
        "colab": {
          "base_uri": "https://localhost:8080/"
        },
        "id": "D7eSzvimwTRm",
        "outputId": "dd823ec8-e1d7-494b-bbde-d6b7f369101f"
      },
      "execution_count": null,
      "outputs": [
        {
          "output_type": "execute_result",
          "data": {
            "text/plain": [
              "['apple', 'orange', 'banana']"
            ]
          },
          "metadata": {},
          "execution_count": 3
        }
      ]
    },
    {
      "cell_type": "code",
      "source": [
        "type(list)"
      ],
      "metadata": {
        "colab": {
          "base_uri": "https://localhost:8080/"
        },
        "id": "mrpjZqQQwUDu",
        "outputId": "4417c0d2-ab23-4296-94e8-1d5a5442f27b"
      },
      "execution_count": null,
      "outputs": [
        {
          "output_type": "execute_result",
          "data": {
            "text/plain": [
              "list"
            ]
          },
          "metadata": {},
          "execution_count": 4
        }
      ]
    },
    {
      "cell_type": "code",
      "source": [
        "#Immutable Data Type:\n",
        "tuple = (1, 2,3, 4)"
      ],
      "metadata": {
        "id": "lWC8lrdIwWqy"
      },
      "execution_count": null,
      "outputs": []
    },
    {
      "cell_type": "code",
      "source": [
        "tuple"
      ],
      "metadata": {
        "colab": {
          "base_uri": "https://localhost:8080/"
        },
        "id": "0CRD6GzQweql",
        "outputId": "3ca94e7e-c9a8-48c5-a363-ec25f304e7a7"
      },
      "execution_count": null,
      "outputs": [
        {
          "output_type": "execute_result",
          "data": {
            "text/plain": [
              "(1, 2, 3, 4)"
            ]
          },
          "metadata": {},
          "execution_count": 6
        }
      ]
    },
    {
      "cell_type": "code",
      "source": [
        "type(tuple)"
      ],
      "metadata": {
        "colab": {
          "base_uri": "https://localhost:8080/"
        },
        "id": "w9tqu_gFwgBw",
        "outputId": "1ad99562-c2e4-473a-b0bf-f13e5b859e79"
      },
      "execution_count": null,
      "outputs": [
        {
          "output_type": "execute_result",
          "data": {
            "text/plain": [
              "tuple"
            ]
          },
          "metadata": {},
          "execution_count": 7
        }
      ]
    },
    {
      "cell_type": "markdown",
      "source": [
        "3. What are the main differences between lists and tuples in Python.\n"
      ],
      "metadata": {
        "id": "WHvxKcDCwkpa"
      }
    },
    {
      "cell_type": "markdown",
      "source": [
        "A. Main Differences Between Lists and Tuples\n",
        "\n",
        "**Mutability:**\n",
        "\n",
        "Lists are mutable, which means you can modify them after creation. You can add, remove, or change elements.\n",
        "\n",
        "Tuples are immutable, meaning once they are created, you cannot change their contents. This helps protect the data from being accidentally modified.\n",
        "\n",
        "**Syntax:**\n",
        "\n",
        "Lists are defined using square brackets — for example: [1, 2, 3].\n",
        "\n",
        "Tuples are defined using round brackets — for example: (1, 2, 3).\n",
        "\n",
        "**Methods:**\n",
        "\n",
        "Lists offer many built-in methods such as .append(), .extend(), .pop(), .remove(), etc., which help in modifying the data easily.\n",
        "\n",
        "Tuples have very few built-in methods, mostly limited to .count() and .index() since they cannot be changed.\n",
        "\n",
        "**Use Case:**\n",
        "\n",
        "Use lists when you need a collection of items that might change during the program. For example, a list of items in a shopping cart.\n",
        "\n",
        "Use tuples when the data should remain constant or fixed, like storing the days of the week or a pair of coordinates.\n",
        "\n",
        "**Performance:**\n",
        "\n",
        "Tuples are slightly faster and require less memory than lists because they are immutable. This makes them better suited for situations where speed and memory efficiency matter and the data doesn’t need to change.\n",
        "\n"
      ],
      "metadata": {
        "id": "aT2tc8ErxZgV"
      }
    },
    {
      "cell_type": "markdown",
      "source": [
        "4.  Describe how dictionaries store data."
      ],
      "metadata": {
        "id": "FbJU0YBayHLi"
      }
    },
    {
      "cell_type": "markdown",
      "source": [
        "A. A dictionary in Python stores data in the form of key-value pairs. It's like a real-world dictionary, where each word (key) has a corresponding definition (value)."
      ],
      "metadata": {
        "id": "L_JhDd_DyKSn"
      }
    },
    {
      "cell_type": "code",
      "source": [
        "my_dict = {\n",
        "   \"Name\" : \"Yeshwanth\",\n",
        "   \"Age\" : 22,\n",
        "   \"City\" : \"Hyderabad\"\n",
        "}\n",
        "\n"
      ],
      "metadata": {
        "id": "wI6TAikowiHU"
      },
      "execution_count": null,
      "outputs": []
    },
    {
      "cell_type": "code",
      "source": [
        "my_dict"
      ],
      "metadata": {
        "colab": {
          "base_uri": "https://localhost:8080/"
        },
        "id": "ENI1Wmkiyx9s",
        "outputId": "5749dd85-3b1e-43fb-e7a4-e5969bb971e7"
      },
      "execution_count": null,
      "outputs": [
        {
          "output_type": "execute_result",
          "data": {
            "text/plain": [
              "{'Name': 'Yeshwanth', 'Age': 22, 'City': 'Hyderabad'}"
            ]
          },
          "metadata": {},
          "execution_count": 9
        }
      ]
    },
    {
      "cell_type": "code",
      "source": [
        "my_dict.keys()"
      ],
      "metadata": {
        "colab": {
          "base_uri": "https://localhost:8080/"
        },
        "id": "cP_Phz8kyzdm",
        "outputId": "f153e370-f5e2-47c0-95df-fcb0e87efdc4"
      },
      "execution_count": null,
      "outputs": [
        {
          "output_type": "execute_result",
          "data": {
            "text/plain": [
              "dict_keys(['Name', 'Age', 'City'])"
            ]
          },
          "metadata": {},
          "execution_count": 11
        }
      ]
    },
    {
      "cell_type": "code",
      "source": [
        "my_dict.values()"
      ],
      "metadata": {
        "colab": {
          "base_uri": "https://localhost:8080/"
        },
        "id": "iQfe2I8gy4Rt",
        "outputId": "f7f1ac18-9872-4a73-e2d2-8224c3c6450c"
      },
      "execution_count": null,
      "outputs": [
        {
          "output_type": "execute_result",
          "data": {
            "text/plain": [
              "dict_values(['Yeshwanth', 22, 'Hyderabad'])"
            ]
          },
          "metadata": {},
          "execution_count": 12
        }
      ]
    },
    {
      "cell_type": "markdown",
      "source": [
        "5. Why might you use a set instead of a list in Python."
      ],
      "metadata": {
        "id": "QQ2BxBlDzBaS"
      }
    },
    {
      "cell_type": "markdown",
      "source": [
        "A. A set and a list both store collections of items, but a set has unique features that make it useful in specific situations. Here's why you might prefer a set:\n",
        "\n",
        " **To Automatically Remove Duplicates**\n",
        "A set does not allow duplicate values. If you have a list with repeated elements and want only unique ones, converting it to a set is the easiest way.\n",
        "\n",
        "**For Faster Membership Testing**\n",
        "Checking whether an item exists in a set is much faster than in a list, especially for large datasets.\n",
        "\n",
        " **For Set Operations**\n",
        "Sets support mathematical operations like union, intersection, and difference — which are not directly available for lists.\n",
        "\n",
        "**To Ensure Uniqueness**\n",
        "Use a set when you need to collect items but want to make sure each item is stored only once, like counting unique words or user IDs.\n",
        "\n",
        "**When Order Doesn't Matter**\n",
        "Sets are unordered collections. If you don't care about the order of items, a set can be simpler and more efficient than a list."
      ],
      "metadata": {
        "id": "-4JIS0JEzfHe"
      }
    },
    {
      "cell_type": "markdown",
      "source": [
        "6. What is a string in Python, and how is it different from a list."
      ],
      "metadata": {
        "id": "atSbgoGs1I53"
      }
    },
    {
      "cell_type": "markdown",
      "source": [
        "A. A string in Python is a sequence of characters, used to represent text.\n",
        "It is immutable, meaning you cannot change it once it's created.\n",
        "\n",
        "You can create a string using single (' '), double (\" \"), or triple quotes (''' ''' or \"\"\" \"\"\"):\n",
        "\n",
        "**Difference Between String and List:**\n",
        "\n",
        "**Data Type:**\n",
        "\n",
        "String holds only characters\n",
        "\n",
        "List can hold any data type (numbers, strings, etc.)\n",
        "\n",
        "**Mutability:**\n",
        "\n",
        "String is immutable\n",
        "\n",
        "List is mutable\n",
        "\n",
        "**Usage:**\n",
        "\n",
        "Use string for text\n",
        "\n",
        "Use list for collections of items\n",
        "\n",
        "**Syntax:**\n",
        "\n",
        "String: \"abc\"\n",
        "\n",
        "List: [\"a\", \"b\", \"c\"]"
      ],
      "metadata": {
        "id": "JAFfXSZv1lrZ"
      }
    },
    {
      "cell_type": "markdown",
      "source": [
        "7. How do tuples ensure data integrity in Python."
      ],
      "metadata": {
        "id": "pweZnI5a2ECD"
      }
    },
    {
      "cell_type": "markdown",
      "source": [
        "A. Tuples ensure data integrity by being immutable, which means their values cannot be changed after creation. This behavior helps protect data from accidental modifications.\n",
        "\n",
        "**a.** **Immutability**\n",
        "Once a tuple is created, its contents cannot be changed — no adding, removing, or updating elements.\n",
        "\n",
        "**b.** **Safe for Fixed Data**\n",
        "Tuples are ideal for storing constant data that must remain unchanged — like configuration settings, coordinates, or fixed categories.\n",
        "\n",
        "**c. Hashable and Usable as Keys**\n",
        "Because they are immutable, tuples can be used as keys in dictionaries (if they contain only immutable elements), which ensures the key data doesn’t get altered.\n"
      ],
      "metadata": {
        "id": "_Ta31Un_2KzX"
      }
    },
    {
      "cell_type": "markdown",
      "source": [
        "8. What is a hash table, and how does it relate to dictionaries in Python.\n"
      ],
      "metadata": {
        "id": "qJbeuyuL4UHK"
      }
    },
    {
      "cell_type": "markdown",
      "source": [
        "A. A hash table is a data structure that stores data in key-value pairs and allows fast access to values based on their keys.\n",
        "\n",
        "It works like this:\n",
        "\n",
        ">Each key is passed through a hash function, which converts it into a unique number called a hash.\n",
        "\n",
        ">This hash determines where the value is stored in memory.\n",
        "\n",
        ">When you want to retrieve the value, Python uses the same hash to quickly find it, without checking every item.\n",
        "\n",
        "**How Does It Relate to Dictionaries in Python?**\n",
        "\n",
        "In Python, the dictionary (dict) is built on top of a hash table.\n",
        "\n",
        ">Keys in a dictionary are hashed.\n",
        "\n",
        ">The hash value determines where the corresponding value is stored.\n",
        "\n",
        ">This allows for very fast lookups, updates, and deletions — usually in constant time O(1).\n",
        "\n",
        "\n",
        "\n",
        "\n"
      ],
      "metadata": {
        "id": "xjNnjEwR4eAA"
      }
    },
    {
      "cell_type": "code",
      "source": [
        "my_dict = {\"Apple\" : 10, \"Banana\" : 20, \"orange\" : 30}\n"
      ],
      "metadata": {
        "id": "yJqlxXlHy-XD"
      },
      "execution_count": null,
      "outputs": []
    },
    {
      "cell_type": "code",
      "source": [
        "print(my_dict[\"Apple\"])"
      ],
      "metadata": {
        "colab": {
          "base_uri": "https://localhost:8080/"
        },
        "id": "Rto-QEvb5egi",
        "outputId": "3de98692-1758-4967-d49f-f77b77f25ce5"
      },
      "execution_count": null,
      "outputs": [
        {
          "output_type": "stream",
          "name": "stdout",
          "text": [
            "10\n"
          ]
        }
      ]
    },
    {
      "cell_type": "markdown",
      "source": [
        "9. Can lists contain different data types in Python."
      ],
      "metadata": {
        "id": "7yk9e5vn5z_a"
      }
    },
    {
      "cell_type": "markdown",
      "source": [
        "A. In Python, lists are flexible and can store elements of any type, including:\n",
        "\n",
        "Integers\n",
        "\n",
        "Strings\n",
        "\n",
        "Floats\n",
        "\n",
        "Booleans\n",
        "\n",
        "Other lists\n",
        "\n",
        "Tuples, dictionaries, objects, etc."
      ],
      "metadata": {
        "id": "mih8NZxG56VU"
      }
    },
    {
      "cell_type": "code",
      "source": [
        "list = [\"Orange\", True, False, 1, 2.2, \"Yeshwanth\"]"
      ],
      "metadata": {
        "id": "M4jWjLdL5pA5"
      },
      "execution_count": null,
      "outputs": []
    },
    {
      "cell_type": "code",
      "source": [
        "list"
      ],
      "metadata": {
        "colab": {
          "base_uri": "https://localhost:8080/"
        },
        "id": "DccqWojY6PO7",
        "outputId": "f5221960-7baa-4baa-8703-03aa782810cd"
      },
      "execution_count": null,
      "outputs": [
        {
          "output_type": "execute_result",
          "data": {
            "text/plain": [
              "['Orange', True, False, 1, 2.2, 'Yeshwanth']"
            ]
          },
          "metadata": {},
          "execution_count": 18
        }
      ]
    },
    {
      "cell_type": "code",
      "source": [
        "type(list)"
      ],
      "metadata": {
        "colab": {
          "base_uri": "https://localhost:8080/"
        },
        "id": "Fl4QCu2v6QVO",
        "outputId": "ac75f87a-4f98-4782-a4bf-7deb040699e7"
      },
      "execution_count": null,
      "outputs": [
        {
          "output_type": "execute_result",
          "data": {
            "text/plain": [
              "list"
            ]
          },
          "metadata": {},
          "execution_count": 19
        }
      ]
    },
    {
      "cell_type": "markdown",
      "source": [
        "10.  Explain why strings are immutable in Python."
      ],
      "metadata": {
        "id": "GsDwqjR26USc"
      }
    },
    {
      "cell_type": "markdown",
      "source": [
        "A. Strings are immutable in Python because once a string is created, its contents cannot be changed. Any operation that seems to \"modify\" a string actually creates a new string.\n",
        "\n",
        "Reasons Why Strings Are Immutable:\n",
        "\n",
        "**Memory Efficiency -** Reuses the same string objects to save memory.\n",
        "\n",
        "**Safe Dictionary Keys -** Allows strings to be used as reliable keys in dictionaries and sets.\n",
        "\n",
        "**Thread Safety -** Prevents issues in multi-threaded programs.\n",
        "\n",
        "**Predictability -** Makes strings stable and easy to debug.\n",
        "\n",
        "**Performance -** Faster access and handling in many operations."
      ],
      "metadata": {
        "id": "03p0Secl6ZGU"
      }
    },
    {
      "cell_type": "markdown",
      "source": [
        "11. What advantages do dictionaries offer over lists for certain tasks."
      ],
      "metadata": {
        "id": "9P2ukLHhzZ9T"
      }
    },
    {
      "cell_type": "markdown",
      "source": [
        "A. Dictionaries offer several advantages over lists for specific tasks, especially when working with key-value pairs.\n",
        "\n",
        "1. Fast Lookup by Key\n",
        "Dictionaries provide instant access to data using a key (like a name or ID), while lists require searching by index or looping.\n",
        "\n",
        "2. Clearer Data Organization\n",
        "Dictionaries store data as key-value pairs, making it easier to understand and work with structured data.\n",
        "\n",
        "3. Flexible Key Access\n",
        "You can access values using descriptive keys, rather than relying on numeric indexes.\n",
        "\n",
        "4. Easier to Update Specific Items\n",
        "You can update a specific value directly using its key, without worrying about its position.\n",
        "\n",
        "5. No Need to Remember Order\n",
        "In a list, order matters. In a dictionary, you don’t have to remember where an item is stored — just use the key."
      ],
      "metadata": {
        "id": "H98L-dgczft2"
      }
    },
    {
      "cell_type": "markdown",
      "source": [
        "12.  Describe a scenario where using a tuple would be preferable over a list."
      ],
      "metadata": {
        "id": "2gdplNzN0N54"
      }
    },
    {
      "cell_type": "markdown",
      "source": [
        "A. Use a tuple when the data should not change.\n",
        "Tuples are immutable, meaning once created, they cannot be modified — this helps ensure data safety and integrity.\n",
        "Storing Coordinates (x, y)\n",
        "Suppose you're working with locations on a map and you want to store the coordinates of a point:"
      ],
      "metadata": {
        "id": "lxouwJdE0UZ7"
      }
    },
    {
      "cell_type": "code",
      "source": [
        "#latitude, longitude\n",
        "location = (45.123, 78.456)"
      ],
      "metadata": {
        "id": "DrwuyLyN0zqH"
      },
      "execution_count": null,
      "outputs": []
    },
    {
      "cell_type": "code",
      "source": [
        "location"
      ],
      "metadata": {
        "colab": {
          "base_uri": "https://localhost:8080/"
        },
        "id": "kVpPEjFr01zH",
        "outputId": "7acce16b-731f-40db-ffd0-aeec5379fdc3"
      },
      "execution_count": null,
      "outputs": [
        {
          "output_type": "execute_result",
          "data": {
            "text/plain": [
              "(45.123, 78.456)"
            ]
          },
          "metadata": {},
          "execution_count": 132
        }
      ]
    },
    {
      "cell_type": "code",
      "source": [
        "type(location)"
      ],
      "metadata": {
        "colab": {
          "base_uri": "https://localhost:8080/"
        },
        "id": "FnHM868604xv",
        "outputId": "0d253d74-fbf6-4476-c0e3-d3bf3ec06472"
      },
      "execution_count": null,
      "outputs": [
        {
          "output_type": "execute_result",
          "data": {
            "text/plain": [
              "tuple"
            ]
          },
          "metadata": {},
          "execution_count": 133
        }
      ]
    },
    {
      "cell_type": "markdown",
      "source": [
        "13. How do sets handle duplicate values in Python."
      ],
      "metadata": {
        "id": "b0tIGyjL1FvH"
      }
    },
    {
      "cell_type": "markdown",
      "source": [
        "A. Sets in Python automatically remove duplicates.\n",
        "\n",
        "When you create a set, any repeated values are stored only once, because sets only allow unique elements."
      ],
      "metadata": {
        "id": "h8oDyQVJ1ZaT"
      }
    },
    {
      "cell_type": "code",
      "source": [
        "set = {1, 2, 3, 3, 4, 5, 6, 5}\n"
      ],
      "metadata": {
        "id": "CFvjTqha1nT0"
      },
      "execution_count": null,
      "outputs": []
    },
    {
      "cell_type": "code",
      "source": [
        "set"
      ],
      "metadata": {
        "colab": {
          "base_uri": "https://localhost:8080/"
        },
        "id": "GZR-V2iW1vLY",
        "outputId": "663007d6-c639-42e5-f81c-5249a32b51fc"
      },
      "execution_count": null,
      "outputs": [
        {
          "output_type": "execute_result",
          "data": {
            "text/plain": [
              "{1, 2, 3, 4, 5, 6}"
            ]
          },
          "metadata": {},
          "execution_count": 136
        }
      ]
    },
    {
      "cell_type": "markdown",
      "source": [
        "14. How does the “in” keyword work differently for lists and dictionaries.\n"
      ],
      "metadata": {
        "id": "_PPj0eHO12rp"
      }
    },
    {
      "cell_type": "markdown",
      "source": [
        "A. In Lists: Checks if a value exists in the list\n",
        "    ,In Dictionaries: Checks if a key exists in the dictionary (not the value!)\n",
        "   , In Dictionaries: Check for a value in a dictionary."
      ],
      "metadata": {
        "id": "Lc3P4_vt1_dF"
      }
    },
    {
      "cell_type": "markdown",
      "source": [
        "15. Can you modify the elements of a tuple? Explain why or why not."
      ],
      "metadata": {
        "id": "rmic7RlK3UME"
      }
    },
    {
      "cell_type": "markdown",
      "source": [
        "A. cannot modify tuple elements because tuples are immutable — this protects the data and improves reliability."
      ],
      "metadata": {
        "id": "wfAmwv2Z3haQ"
      }
    },
    {
      "cell_type": "markdown",
      "source": [
        "16. What is a nested dictionary, and give an example of its use case."
      ],
      "metadata": {
        "id": "byyFvaKw3jbi"
      }
    },
    {
      "cell_type": "markdown",
      "source": [
        "A. A nested dictionary is a dictionary within another dictionary.\n",
        "It allows you to organize and store complex, structured data — like a real-world hierarchy.\n",
        "\n",
        "**Use Case:**\n",
        "A school system storing student records:\n",
        "Outer dictionary → Student IDs\n",
        "Inner dictionaries → Individual student info (name, age, grade, etc.)"
      ],
      "metadata": {
        "id": "VI2mpHr93zfx"
      }
    },
    {
      "cell_type": "code",
      "source": [
        "students = {\n",
        "\"101\" : {\"name\": \"Yeshu\", \"grade\":'A'},\n",
        "\"102\" : {\"name\" : \"Nikki\", \"grade\" : \"A+\"},\n",
        "\"103\" : {\"name\" : \"Nandu\", \"grade\" : \"A\"}\n",
        "}"
      ],
      "metadata": {
        "id": "2CUap12c4wzH"
      },
      "execution_count": null,
      "outputs": []
    },
    {
      "cell_type": "code",
      "source": [
        "print(students[\"101\"][\"name\"])"
      ],
      "metadata": {
        "colab": {
          "base_uri": "https://localhost:8080/"
        },
        "id": "_JDDWo_q4-OW",
        "outputId": "3b49752e-6423-4c09-e81a-b0e11647fbb7"
      },
      "execution_count": null,
      "outputs": [
        {
          "output_type": "stream",
          "name": "stdout",
          "text": [
            "Yeshu\n"
          ]
        }
      ]
    },
    {
      "cell_type": "markdown",
      "source": [
        "17. Describe the time complexity of accessing elements in a dictionary."
      ],
      "metadata": {
        "id": "nUuYI6aW5OPu"
      }
    },
    {
      "cell_type": "markdown",
      "source": [
        "A. Accessing elements in a dictionary has an average-case time complexity of O(1), meaning it takes constant time. This is because dictionaries use hash tables, which allow direct access to values using their keys. In rare worst-case scenarios, due to hash collisions, the time complexity can become O(n)."
      ],
      "metadata": {
        "id": "oxUfrinU55cx"
      }
    },
    {
      "cell_type": "markdown",
      "source": [
        "18. In what situations are lists preferred over dictionaries.\n"
      ],
      "metadata": {
        "id": "kDgMBydu57M9"
      }
    },
    {
      "cell_type": "markdown",
      "source": [
        "A. Lists are preferred over dictionaries when the order of elements matters or when you only need to store and access data using indexes. They are ideal for situations where you're working with sequences of items, looping in order, or when key-value pairing is not needed."
      ],
      "metadata": {
        "id": "J6bUMR3c6CwH"
      }
    },
    {
      "cell_type": "markdown",
      "source": [
        "19. Why are dictionaries considered unordered, and how does that affect data retrieval."
      ],
      "metadata": {
        "id": "ggN-2bgx6YQc"
      }
    },
    {
      "cell_type": "markdown",
      "source": [
        "A. Dictionaries were traditionally considered unordered because they did not maintain the order of key-value pairs before Python 3.7. From Python 3.7 onwards, they preserve insertion order, but conceptually they are still accessed by keys, not by position.\n",
        "\n",
        "This affects data retrieval because:\n",
        ">You cannot access items by index (like lists)\n",
        ">,Data is retrieved using the key, regardless of the order it was added."
      ],
      "metadata": {
        "id": "jsMUlFMl6oW8"
      }
    },
    {
      "cell_type": "markdown",
      "source": [
        "20. Explain the difference between a list and a dictionary in terms of data retrieval."
      ],
      "metadata": {
        "id": "QEFYRaHD7C5U"
      }
    },
    {
      "cell_type": "markdown",
      "source": [
        "A. **Lis**t:Data is retrieved using index positions (e.g., list[0]).\n",
        "  Elements are accessed by their order in the list."
      ],
      "metadata": {
        "id": "wgkdfzMj7JtP"
      }
    },
    {
      "cell_type": "code",
      "source": [
        "#Example\n",
        "fruits = [\"apple\", \"banana\", \"mango\"]\n",
        "print(fruits[1])"
      ],
      "metadata": {
        "colab": {
          "base_uri": "https://localhost:8080/"
        },
        "id": "KF5SuG657jeX",
        "outputId": "46eabf16-02fa-41f1-975c-32231e41d5e5"
      },
      "execution_count": null,
      "outputs": [
        {
          "output_type": "stream",
          "name": "stdout",
          "text": [
            "banana\n"
          ]
        }
      ]
    },
    {
      "cell_type": "markdown",
      "source": [
        "**Dictionary:**\n",
        "Data is retrieved using keys, not positions (e.g., dict[\"name\"]).\n",
        "Each value is associated with a unique key."
      ],
      "metadata": {
        "id": "cosIXfiz7s7J"
      }
    },
    {
      "cell_type": "code",
      "source": [
        "person = {\"name\": \"Alice\", \"age\": 25}\n",
        "print(person[\"name\"])"
      ],
      "metadata": {
        "colab": {
          "base_uri": "https://localhost:8080/"
        },
        "id": "7wjELc0p78NU",
        "outputId": "f844f104-bda8-4592-a551-63192eb0e76a"
      },
      "execution_count": null,
      "outputs": [
        {
          "output_type": "stream",
          "name": "stdout",
          "text": [
            "Alice\n"
          ]
        }
      ]
    },
    {
      "cell_type": "markdown",
      "source": [
        " **Practical Questions**"
      ],
      "metadata": {
        "id": "L2IkllDsedIr"
      }
    },
    {
      "cell_type": "markdown",
      "source": [
        "1. Write a code to create a string with your name and print it."
      ],
      "metadata": {
        "id": "-tcJk6Lmehrf"
      }
    },
    {
      "cell_type": "code",
      "source": [
        "x = \"Nandu\""
      ],
      "metadata": {
        "id": "NtsU3KtXerUq"
      },
      "execution_count": null,
      "outputs": []
    },
    {
      "cell_type": "code",
      "source": [
        "print(x)"
      ],
      "metadata": {
        "colab": {
          "base_uri": "https://localhost:8080/"
        },
        "id": "MkTd4-_B6S9F",
        "outputId": "e6fc60ed-59b3-4c35-c166-ab7d666f9875"
      },
      "execution_count": null,
      "outputs": [
        {
          "output_type": "stream",
          "name": "stdout",
          "text": [
            "Nandu\n"
          ]
        }
      ]
    },
    {
      "cell_type": "code",
      "source": [
        "type(x)"
      ],
      "metadata": {
        "colab": {
          "base_uri": "https://localhost:8080/"
        },
        "id": "Yrl9kLrdkh0w",
        "outputId": "126e23d5-b750-4a42-d175-1d607149cae1"
      },
      "execution_count": null,
      "outputs": [
        {
          "output_type": "execute_result",
          "data": {
            "text/plain": [
              "str"
            ]
          },
          "metadata": {},
          "execution_count": 45
        }
      ]
    },
    {
      "cell_type": "markdown",
      "source": [
        "2.  Write a code to find the length of the string \"Hello World\"."
      ],
      "metadata": {
        "id": "ElG7D9HNe7NB"
      }
    },
    {
      "cell_type": "code",
      "source": [
        "a = \"Hello World\""
      ],
      "metadata": {
        "id": "-_N10rlcewI8"
      },
      "execution_count": null,
      "outputs": []
    },
    {
      "cell_type": "code",
      "source": [
        "a"
      ],
      "metadata": {
        "colab": {
          "base_uri": "https://localhost:8080/",
          "height": 36
        },
        "id": "-RpGN0unfJyz",
        "outputId": "36edea5a-d1aa-4442-fc17-371b2e382ff5"
      },
      "execution_count": null,
      "outputs": [
        {
          "output_type": "execute_result",
          "data": {
            "text/plain": [
              "'Hello World'"
            ],
            "application/vnd.google.colaboratory.intrinsic+json": {
              "type": "string"
            }
          },
          "metadata": {},
          "execution_count": 5
        }
      ]
    },
    {
      "cell_type": "code",
      "source": [
        "len(a)"
      ],
      "metadata": {
        "colab": {
          "base_uri": "https://localhost:8080/"
        },
        "id": "pkridCjvfKTT",
        "outputId": "5f1585f2-d29b-44d7-ab2d-c27084a09202"
      },
      "execution_count": null,
      "outputs": [
        {
          "output_type": "execute_result",
          "data": {
            "text/plain": [
              "11"
            ]
          },
          "metadata": {},
          "execution_count": 6
        }
      ]
    },
    {
      "cell_type": "markdown",
      "source": [
        "3.  Write a code to slice the first 3 characters from the string \"Python Programming\"."
      ],
      "metadata": {
        "id": "ikymfxhBfNlP"
      }
    },
    {
      "cell_type": "code",
      "source": [
        "text = \"Python Programming\""
      ],
      "metadata": {
        "id": "HF27ioBmfL7k"
      },
      "execution_count": null,
      "outputs": []
    },
    {
      "cell_type": "code",
      "source": [
        "sliced_text = text[:3]"
      ],
      "metadata": {
        "id": "cvWkwfdRhyOK"
      },
      "execution_count": null,
      "outputs": []
    },
    {
      "cell_type": "code",
      "source": [
        "sliced_text"
      ],
      "metadata": {
        "colab": {
          "base_uri": "https://localhost:8080/",
          "height": 36
        },
        "id": "S7ZAvcO0h4VM",
        "outputId": "5cb85481-666f-4de0-d56c-a99b2453eddb"
      },
      "execution_count": null,
      "outputs": [
        {
          "output_type": "execute_result",
          "data": {
            "text/plain": [
              "'Pyt'"
            ],
            "application/vnd.google.colaboratory.intrinsic+json": {
              "type": "string"
            }
          },
          "metadata": {},
          "execution_count": 12
        }
      ]
    },
    {
      "cell_type": "markdown",
      "source": [
        "4. Write a code to convert the string \"hello\" to uppercase."
      ],
      "metadata": {
        "id": "nl0o08mUiCGH"
      }
    },
    {
      "cell_type": "code",
      "source": [
        "string = \"hello\""
      ],
      "metadata": {
        "id": "jSuK-MzDh745"
      },
      "execution_count": null,
      "outputs": []
    },
    {
      "cell_type": "code",
      "source": [
        "string"
      ],
      "metadata": {
        "colab": {
          "base_uri": "https://localhost:8080/",
          "height": 36
        },
        "id": "uaphMjv8iJNn",
        "outputId": "a2472543-da9f-4fc0-c003-9844c57432e2"
      },
      "execution_count": null,
      "outputs": [
        {
          "output_type": "execute_result",
          "data": {
            "text/plain": [
              "'hello'"
            ],
            "application/vnd.google.colaboratory.intrinsic+json": {
              "type": "string"
            }
          },
          "metadata": {},
          "execution_count": 14
        }
      ]
    },
    {
      "cell_type": "code",
      "source": [
        "string.upper()"
      ],
      "metadata": {
        "colab": {
          "base_uri": "https://localhost:8080/",
          "height": 36
        },
        "id": "OHreaGA8iKBF",
        "outputId": "093bbf2d-0fc6-43cb-e7c3-a59bebfeac19"
      },
      "execution_count": null,
      "outputs": [
        {
          "output_type": "execute_result",
          "data": {
            "text/plain": [
              "'HELLO'"
            ],
            "application/vnd.google.colaboratory.intrinsic+json": {
              "type": "string"
            }
          },
          "metadata": {},
          "execution_count": 15
        }
      ]
    },
    {
      "cell_type": "markdown",
      "source": [
        "5.  Write a code to replace the word \"apple\" with \"orange\" in the string \"I like apple\"."
      ],
      "metadata": {
        "id": "3pSsycjuiOIF"
      }
    },
    {
      "cell_type": "code",
      "source": [
        "a = \"I like apple\""
      ],
      "metadata": {
        "id": "NajxhBX1iNCm"
      },
      "execution_count": null,
      "outputs": []
    },
    {
      "cell_type": "code",
      "source": [
        "a"
      ],
      "metadata": {
        "colab": {
          "base_uri": "https://localhost:8080/",
          "height": 36
        },
        "id": "gDp3yAVviXjv",
        "outputId": "417ae839-bc3f-4d0e-d934-1dda95f48098"
      },
      "execution_count": null,
      "outputs": [
        {
          "output_type": "execute_result",
          "data": {
            "text/plain": [
              "'I like apple'"
            ],
            "application/vnd.google.colaboratory.intrinsic+json": {
              "type": "string"
            }
          },
          "metadata": {},
          "execution_count": 17
        }
      ]
    },
    {
      "cell_type": "code",
      "source": [
        "a.replace(\"apple\", \"orange\")"
      ],
      "metadata": {
        "colab": {
          "base_uri": "https://localhost:8080/",
          "height": 36
        },
        "id": "GuUc957CiXy4",
        "outputId": "7619a17f-65ad-485a-e8de-3cca4acb7231"
      },
      "execution_count": null,
      "outputs": [
        {
          "output_type": "execute_result",
          "data": {
            "text/plain": [
              "'I like orange'"
            ],
            "application/vnd.google.colaboratory.intrinsic+json": {
              "type": "string"
            }
          },
          "metadata": {},
          "execution_count": 18
        }
      ]
    },
    {
      "cell_type": "markdown",
      "source": [
        "6. Write a code to create a list with numbers 1 to 5 and print it."
      ],
      "metadata": {
        "id": "n1TrTl8_in1g"
      }
    },
    {
      "cell_type": "code",
      "source": [
        "list = [1, 2, 3, 4, 5]"
      ],
      "metadata": {
        "id": "lcmPJQgDicdx"
      },
      "execution_count": null,
      "outputs": []
    },
    {
      "cell_type": "code",
      "source": [
        "print(list)"
      ],
      "metadata": {
        "colab": {
          "base_uri": "https://localhost:8080/"
        },
        "id": "3El1AxuFixfz",
        "outputId": "8bf6abd9-dbd6-488e-cd4b-e65ffd275b17"
      },
      "execution_count": null,
      "outputs": [
        {
          "output_type": "stream",
          "name": "stdout",
          "text": [
            "[1, 2, 3, 4, 5]\n"
          ]
        }
      ]
    },
    {
      "cell_type": "code",
      "source": [
        "type(list)"
      ],
      "metadata": {
        "colab": {
          "base_uri": "https://localhost:8080/"
        },
        "id": "3uh0N-dckme6",
        "outputId": "19f9c4ae-e899-4344-939a-209cc7f9822f"
      },
      "execution_count": null,
      "outputs": [
        {
          "output_type": "execute_result",
          "data": {
            "text/plain": [
              "list"
            ]
          },
          "metadata": {},
          "execution_count": 46
        }
      ]
    },
    {
      "cell_type": "markdown",
      "source": [
        "7.  Write a code to append the number 10 to the list [1, 2, 3, 4]."
      ],
      "metadata": {
        "id": "sLPv6LTIiz56"
      }
    },
    {
      "cell_type": "code",
      "source": [
        "list1 = [1, 2, 3, 4]"
      ],
      "metadata": {
        "id": "YrZa8I9Fiy07"
      },
      "execution_count": null,
      "outputs": []
    },
    {
      "cell_type": "code",
      "source": [
        "list1"
      ],
      "metadata": {
        "colab": {
          "base_uri": "https://localhost:8080/"
        },
        "id": "834O4S_wi8EO",
        "outputId": "5bc64842-1f11-4543-fee1-d7fbf2c5ac31"
      },
      "execution_count": null,
      "outputs": [
        {
          "output_type": "execute_result",
          "data": {
            "text/plain": [
              "[1, 2, 3, 4]"
            ]
          },
          "metadata": {},
          "execution_count": 22
        }
      ]
    },
    {
      "cell_type": "code",
      "source": [
        "list1.append(10)"
      ],
      "metadata": {
        "id": "xLJdT9GKi9AO"
      },
      "execution_count": null,
      "outputs": []
    },
    {
      "cell_type": "code",
      "source": [
        "list1"
      ],
      "metadata": {
        "colab": {
          "base_uri": "https://localhost:8080/"
        },
        "id": "HNTYCUmdi_pl",
        "outputId": "d2bc7d37-21a2-4fa8-b4a5-d44cc477269d"
      },
      "execution_count": null,
      "outputs": [
        {
          "output_type": "execute_result",
          "data": {
            "text/plain": [
              "[1, 2, 3, 4, 10]"
            ]
          },
          "metadata": {},
          "execution_count": 24
        }
      ]
    },
    {
      "cell_type": "markdown",
      "source": [
        "8.  Write a code to remove the number 3 from the list [1, 2, 3, 4, 5]."
      ],
      "metadata": {
        "id": "XSaYtRNKjBUi"
      }
    },
    {
      "cell_type": "code",
      "source": [
        "list = [1, 2, 3, 4, 5]"
      ],
      "metadata": {
        "id": "ARV2aglHjAQI"
      },
      "execution_count": null,
      "outputs": []
    },
    {
      "cell_type": "code",
      "source": [
        "list"
      ],
      "metadata": {
        "colab": {
          "base_uri": "https://localhost:8080/"
        },
        "id": "hixbq1hPjJXG",
        "outputId": "0f6ed87f-c6f7-4662-c50e-b15c3c45f24a"
      },
      "execution_count": null,
      "outputs": [
        {
          "output_type": "execute_result",
          "data": {
            "text/plain": [
              "[1, 2, 3, 4, 5]"
            ]
          },
          "metadata": {},
          "execution_count": 26
        }
      ]
    },
    {
      "cell_type": "code",
      "source": [
        "list.remove(3)"
      ],
      "metadata": {
        "id": "IFeeqRgQjJ23"
      },
      "execution_count": null,
      "outputs": []
    },
    {
      "cell_type": "code",
      "source": [
        "list"
      ],
      "metadata": {
        "colab": {
          "base_uri": "https://localhost:8080/"
        },
        "id": "pXYr2xepjM-n",
        "outputId": "68de844d-02c1-40e0-d7f0-be3bbed7dad0"
      },
      "execution_count": null,
      "outputs": [
        {
          "output_type": "execute_result",
          "data": {
            "text/plain": [
              "[1, 2, 4, 5]"
            ]
          },
          "metadata": {},
          "execution_count": 28
        }
      ]
    },
    {
      "cell_type": "markdown",
      "source": [
        "9.  Write a code to access the second element in the list ['a', 'b', 'c', 'd']."
      ],
      "metadata": {
        "id": "9HkfiMMNjPSj"
      }
    },
    {
      "cell_type": "code",
      "source": [
        "list = ['a', 'b', 'c', 'd']"
      ],
      "metadata": {
        "id": "UacNUaDAjNm5"
      },
      "execution_count": null,
      "outputs": []
    },
    {
      "cell_type": "code",
      "source": [
        "list"
      ],
      "metadata": {
        "colab": {
          "base_uri": "https://localhost:8080/"
        },
        "id": "1eKwJmDQjaFd",
        "outputId": "d28af5dd-36be-49dc-e7cb-5fb352ce1196"
      },
      "execution_count": null,
      "outputs": [
        {
          "output_type": "execute_result",
          "data": {
            "text/plain": [
              "['a', 'b', 'c', 'd']"
            ]
          },
          "metadata": {},
          "execution_count": 30
        }
      ]
    },
    {
      "cell_type": "code",
      "source": [
        "list[1]"
      ],
      "metadata": {
        "colab": {
          "base_uri": "https://localhost:8080/",
          "height": 36
        },
        "id": "sCoiVQW3jagg",
        "outputId": "923a10d3-1374-497d-b029-e04631b14b11"
      },
      "execution_count": null,
      "outputs": [
        {
          "output_type": "execute_result",
          "data": {
            "text/plain": [
              "'b'"
            ],
            "application/vnd.google.colaboratory.intrinsic+json": {
              "type": "string"
            }
          },
          "metadata": {},
          "execution_count": 31
        }
      ]
    },
    {
      "cell_type": "markdown",
      "source": [
        "10.  Write a code to reverse the list [10, 20, 30, 40, 50]."
      ],
      "metadata": {
        "id": "_fM1SGS6jeRG"
      }
    },
    {
      "cell_type": "code",
      "source": [
        "list = [10, 20, 30, 40, 50]"
      ],
      "metadata": {
        "id": "gQ3TfREfjdRd"
      },
      "execution_count": null,
      "outputs": []
    },
    {
      "cell_type": "code",
      "source": [
        "list"
      ],
      "metadata": {
        "colab": {
          "base_uri": "https://localhost:8080/"
        },
        "id": "ydlCXmGfjmYV",
        "outputId": "aecc08fd-f232-4855-e577-bbafa4b9581f"
      },
      "execution_count": null,
      "outputs": [
        {
          "output_type": "execute_result",
          "data": {
            "text/plain": [
              "[10, 20, 30, 40, 50]"
            ]
          },
          "metadata": {},
          "execution_count": 33
        }
      ]
    },
    {
      "cell_type": "code",
      "source": [
        "list[::-1]"
      ],
      "metadata": {
        "colab": {
          "base_uri": "https://localhost:8080/"
        },
        "id": "OHke7_06jm6G",
        "outputId": "3c38ab52-92ea-4b27-cb09-e08eb5475a7a"
      },
      "execution_count": null,
      "outputs": [
        {
          "output_type": "execute_result",
          "data": {
            "text/plain": [
              "[50, 40, 30, 20, 10]"
            ]
          },
          "metadata": {},
          "execution_count": 40
        }
      ]
    },
    {
      "cell_type": "markdown",
      "source": [
        "11. Write a code to create a tuple with the elements 100, 200, 300 and print it."
      ],
      "metadata": {
        "id": "O1nWXcGlkTiN"
      }
    },
    {
      "cell_type": "code",
      "source": [
        "tuple = (100, 200, 300)"
      ],
      "metadata": {
        "id": "9S-A84-Ojtsl"
      },
      "execution_count": null,
      "outputs": []
    },
    {
      "cell_type": "code",
      "source": [
        "print(tuple)"
      ],
      "metadata": {
        "colab": {
          "base_uri": "https://localhost:8080/"
        },
        "id": "8L9CvsgLkbha",
        "outputId": "a57ead19-3e17-4933-a71e-491ead2d8a99"
      },
      "execution_count": null,
      "outputs": [
        {
          "output_type": "stream",
          "name": "stdout",
          "text": [
            "(100, 200, 300)\n"
          ]
        }
      ]
    },
    {
      "cell_type": "code",
      "source": [
        "type(tuple)"
      ],
      "metadata": {
        "colab": {
          "base_uri": "https://localhost:8080/"
        },
        "id": "2m-ZbMC1kdP-",
        "outputId": "da07dba9-22df-4024-c07b-8bccdd571c7c"
      },
      "execution_count": null,
      "outputs": [
        {
          "output_type": "execute_result",
          "data": {
            "text/plain": [
              "tuple"
            ]
          },
          "metadata": {},
          "execution_count": 43
        }
      ]
    },
    {
      "cell_type": "markdown",
      "source": [
        "12. Write a code to access the second-to-last element of the tuple ('red', 'green', 'blue', 'yellow')."
      ],
      "metadata": {
        "id": "wjrP-WGxkqCY"
      }
    },
    {
      "cell_type": "code",
      "source": [
        "tuple1 = ('red', 'green', 'blue', 'yellow')"
      ],
      "metadata": {
        "id": "WMqHvWJ-kei2"
      },
      "execution_count": null,
      "outputs": []
    },
    {
      "cell_type": "code",
      "source": [
        "tuple1"
      ],
      "metadata": {
        "colab": {
          "base_uri": "https://localhost:8080/"
        },
        "id": "u0cFzBUik0oZ",
        "outputId": "59da8cdd-2581-4490-8ec4-8144320ae3fc"
      },
      "execution_count": null,
      "outputs": [
        {
          "output_type": "execute_result",
          "data": {
            "text/plain": [
              "('red', 'green', 'blue', 'yellow')"
            ]
          },
          "metadata": {},
          "execution_count": 48
        }
      ]
    },
    {
      "cell_type": "code",
      "source": [
        "tuple1[-2]"
      ],
      "metadata": {
        "colab": {
          "base_uri": "https://localhost:8080/",
          "height": 36
        },
        "id": "3iTgichJk1Vl",
        "outputId": "7b76ae47-3df3-4ae8-f3be-6703455fb4ed"
      },
      "execution_count": null,
      "outputs": [
        {
          "output_type": "execute_result",
          "data": {
            "text/plain": [
              "'blue'"
            ],
            "application/vnd.google.colaboratory.intrinsic+json": {
              "type": "string"
            }
          },
          "metadata": {},
          "execution_count": 51
        }
      ]
    },
    {
      "cell_type": "markdown",
      "source": [
        "13.  Write a code to find the minimum number in the tuple (10, 20, 5, 15)."
      ],
      "metadata": {
        "id": "1f1ImSO7lEOM"
      }
    },
    {
      "cell_type": "code",
      "source": [
        "tuple = (10, 20, 5, 15)"
      ],
      "metadata": {
        "id": "_bNpvuw_k6dB"
      },
      "execution_count": null,
      "outputs": []
    },
    {
      "cell_type": "code",
      "source": [
        "tuple"
      ],
      "metadata": {
        "colab": {
          "base_uri": "https://localhost:8080/"
        },
        "id": "xqJYGVNKlIdF",
        "outputId": "2f78ab20-e259-436e-d46f-7eac49f06618"
      },
      "execution_count": null,
      "outputs": [
        {
          "output_type": "execute_result",
          "data": {
            "text/plain": [
              "(10, 20, 5, 15)"
            ]
          },
          "metadata": {},
          "execution_count": 54
        }
      ]
    },
    {
      "cell_type": "code",
      "source": [
        "min(tuple)"
      ],
      "metadata": {
        "colab": {
          "base_uri": "https://localhost:8080/"
        },
        "id": "HH_6l-4QlMte",
        "outputId": "c874a8f1-e772-4bdb-bd2b-edf8984374cc"
      },
      "execution_count": null,
      "outputs": [
        {
          "output_type": "execute_result",
          "data": {
            "text/plain": [
              "5"
            ]
          },
          "metadata": {},
          "execution_count": 56
        }
      ]
    },
    {
      "cell_type": "markdown",
      "source": [
        "14.  Write a code to find the index of the element \"cat\" in the tuple ('dog', 'cat', 'rabbit')."
      ],
      "metadata": {
        "id": "8q__5v12lWab"
      }
    },
    {
      "cell_type": "code",
      "source": [
        "tuple = ('dog', 'cat', 'rabbit')"
      ],
      "metadata": {
        "id": "8o_iZMj5lQ-6"
      },
      "execution_count": null,
      "outputs": []
    },
    {
      "cell_type": "code",
      "source": [
        "tuple"
      ],
      "metadata": {
        "colab": {
          "base_uri": "https://localhost:8080/"
        },
        "id": "twe92u75lh2b",
        "outputId": "b3f0808c-303d-49f2-8632-360c18735985"
      },
      "execution_count": null,
      "outputs": [
        {
          "output_type": "execute_result",
          "data": {
            "text/plain": [
              "('dog', 'cat', 'rabbit')"
            ]
          },
          "metadata": {},
          "execution_count": 58
        }
      ]
    },
    {
      "cell_type": "code",
      "source": [
        "tuple[1]"
      ],
      "metadata": {
        "colab": {
          "base_uri": "https://localhost:8080/",
          "height": 36
        },
        "id": "Tr2hjMX9lqKK",
        "outputId": "39384900-4752-41bd-8535-f2469781d2ea"
      },
      "execution_count": null,
      "outputs": [
        {
          "output_type": "execute_result",
          "data": {
            "text/plain": [
              "'cat'"
            ],
            "application/vnd.google.colaboratory.intrinsic+json": {
              "type": "string"
            }
          },
          "metadata": {},
          "execution_count": 59
        }
      ]
    },
    {
      "cell_type": "markdown",
      "source": [
        "15. Write a code to create a tuple containing three different fruits and check if \"kiwi\" is in it."
      ],
      "metadata": {
        "id": "8dyLmybjltTT"
      }
    },
    {
      "cell_type": "code",
      "source": [
        "a = ('apple', 'orange', 'mango')"
      ],
      "metadata": {
        "id": "C6HqEz7alseh"
      },
      "execution_count": null,
      "outputs": []
    },
    {
      "cell_type": "code",
      "source": [
        "a"
      ],
      "metadata": {
        "colab": {
          "base_uri": "https://localhost:8080/"
        },
        "id": "1A49VS4gl5cF",
        "outputId": "59e1efc2-1b4c-48a5-a120-f9666e55467d"
      },
      "execution_count": null,
      "outputs": [
        {
          "output_type": "execute_result",
          "data": {
            "text/plain": [
              "('apple', 'orange', 'mango')"
            ]
          },
          "metadata": {},
          "execution_count": 61
        }
      ]
    },
    {
      "cell_type": "code",
      "source": [
        "if'kiwi'in a:\n",
        "  print(\"kiwi is in tuple\")\n",
        "else:\n",
        "  print(\"kiwi is not in tuple\")"
      ],
      "metadata": {
        "colab": {
          "base_uri": "https://localhost:8080/"
        },
        "id": "P0s_kZd4l5yr",
        "outputId": "0a764980-23bb-467f-85dc-4b0b112727c2"
      },
      "execution_count": null,
      "outputs": [
        {
          "output_type": "stream",
          "name": "stdout",
          "text": [
            "kiwi is not in tuple\n"
          ]
        }
      ]
    },
    {
      "cell_type": "markdown",
      "source": [
        "16.  Write a code to create a set with the elements 'a', 'b', 'c' and print it.\n",
        "\n"
      ],
      "metadata": {
        "id": "bnHtYblsmmsA"
      }
    },
    {
      "cell_type": "code",
      "source": [
        "a = {'a', 'b', 'c'}"
      ],
      "metadata": {
        "id": "vX1EJOZZmc13"
      },
      "execution_count": null,
      "outputs": []
    },
    {
      "cell_type": "code",
      "source": [
        "a"
      ],
      "metadata": {
        "colab": {
          "base_uri": "https://localhost:8080/"
        },
        "id": "0ZLvVPxRmwTr",
        "outputId": "6a834f29-b9b6-4cc5-8674-47bc0d66c009"
      },
      "execution_count": null,
      "outputs": [
        {
          "output_type": "execute_result",
          "data": {
            "text/plain": [
              "{'a', 'b', 'c'}"
            ]
          },
          "metadata": {},
          "execution_count": 67
        }
      ]
    },
    {
      "cell_type": "code",
      "source": [
        "type(a)"
      ],
      "metadata": {
        "colab": {
          "base_uri": "https://localhost:8080/"
        },
        "id": "2AhQInHBmwq_",
        "outputId": "0a6faa4c-5dfe-4d06-c72c-6a0f95969ddd"
      },
      "execution_count": null,
      "outputs": [
        {
          "output_type": "execute_result",
          "data": {
            "text/plain": [
              "set"
            ]
          },
          "metadata": {},
          "execution_count": 68
        }
      ]
    },
    {
      "cell_type": "markdown",
      "source": [
        "17.  Write a code to clear all elements from the set {1, 2, 3, 4, 5}."
      ],
      "metadata": {
        "id": "KJKgW2e5my__"
      }
    },
    {
      "cell_type": "code",
      "source": [
        "set1 = {1, 2, 3, 4, 4}"
      ],
      "metadata": {
        "id": "turI4jXlmyRn"
      },
      "execution_count": null,
      "outputs": []
    },
    {
      "cell_type": "code",
      "source": [
        "set1"
      ],
      "metadata": {
        "colab": {
          "base_uri": "https://localhost:8080/"
        },
        "id": "FOUyiHgdm6zf",
        "outputId": "cc3b6dbd-ad9b-4a0d-8c57-1b34bc3f0fe3"
      },
      "execution_count": null,
      "outputs": [
        {
          "output_type": "execute_result",
          "data": {
            "text/plain": [
              "{1, 2, 3, 4}"
            ]
          },
          "metadata": {},
          "execution_count": 70
        }
      ]
    },
    {
      "cell_type": "code",
      "source": [
        "type(set1)"
      ],
      "metadata": {
        "colab": {
          "base_uri": "https://localhost:8080/"
        },
        "id": "vAp5rqOgnAGU",
        "outputId": "f9fe9c96-f793-4a31-badb-66866c1d743b"
      },
      "execution_count": null,
      "outputs": [
        {
          "output_type": "execute_result",
          "data": {
            "text/plain": [
              "set"
            ]
          },
          "metadata": {},
          "execution_count": 73
        }
      ]
    },
    {
      "cell_type": "code",
      "source": [
        "set1.clear()"
      ],
      "metadata": {
        "id": "swV-Os1em7aN"
      },
      "execution_count": null,
      "outputs": []
    },
    {
      "cell_type": "code",
      "source": [
        "set1"
      ],
      "metadata": {
        "colab": {
          "base_uri": "https://localhost:8080/"
        },
        "id": "MeNK1_fym9BM",
        "outputId": "0e396f10-c1ff-4049-dc47-2ac6f3ce64e4"
      },
      "execution_count": null,
      "outputs": [
        {
          "output_type": "execute_result",
          "data": {
            "text/plain": [
              "set()"
            ]
          },
          "metadata": {},
          "execution_count": 72
        }
      ]
    },
    {
      "cell_type": "markdown",
      "source": [
        "18. Write a code to remove the element 4 from the set {1, 2, 3, 4}."
      ],
      "metadata": {
        "id": "QbIY8bn1nCqq"
      }
    },
    {
      "cell_type": "code",
      "source": [
        "set1 = {1, 2, 3, 4}"
      ],
      "metadata": {
        "id": "s_q-3olQm-QU"
      },
      "execution_count": null,
      "outputs": []
    },
    {
      "cell_type": "code",
      "source": [
        "set1"
      ],
      "metadata": {
        "colab": {
          "base_uri": "https://localhost:8080/"
        },
        "id": "_ZGEOio5nK0k",
        "outputId": "be931fd2-c013-48a1-a740-73bbb859d148"
      },
      "execution_count": null,
      "outputs": [
        {
          "output_type": "execute_result",
          "data": {
            "text/plain": [
              "{1, 2, 3, 4}"
            ]
          },
          "metadata": {},
          "execution_count": 76
        }
      ]
    },
    {
      "cell_type": "code",
      "source": [
        "set1.remove(4)"
      ],
      "metadata": {
        "id": "nFWsTTh0nLWa"
      },
      "execution_count": null,
      "outputs": []
    },
    {
      "cell_type": "code",
      "source": [
        "set1"
      ],
      "metadata": {
        "colab": {
          "base_uri": "https://localhost:8080/"
        },
        "id": "xpt65_REnPxX",
        "outputId": "f27cb97f-cdfe-4da8-b8c9-08610248ae70"
      },
      "execution_count": null,
      "outputs": [
        {
          "output_type": "execute_result",
          "data": {
            "text/plain": [
              "{1, 2, 3}"
            ]
          },
          "metadata": {},
          "execution_count": 79
        }
      ]
    },
    {
      "cell_type": "markdown",
      "source": [
        "19. Write a code to find the union of two sets {1, 2, 3} and {3, 4, 5}."
      ],
      "metadata": {
        "id": "plj7Nis4nS8s"
      }
    },
    {
      "cell_type": "code",
      "source": [
        "x = {1, 2, 3}\n",
        "y = {3, 4, 5}"
      ],
      "metadata": {
        "id": "yJkNAJxinSED"
      },
      "execution_count": null,
      "outputs": []
    },
    {
      "cell_type": "code",
      "source": [
        "x | y"
      ],
      "metadata": {
        "colab": {
          "base_uri": "https://localhost:8080/"
        },
        "id": "Wl3c1Pmznb7k",
        "outputId": "42cd8538-c6a5-4e13-e71b-2e1951d067fd"
      },
      "execution_count": null,
      "outputs": [
        {
          "output_type": "execute_result",
          "data": {
            "text/plain": [
              "{1, 2, 3, 4, 5}"
            ]
          },
          "metadata": {},
          "execution_count": 81
        }
      ]
    },
    {
      "cell_type": "markdown",
      "source": [
        "20. Write a code to find the intersection of two sets {1, 2, 3} and {2, 3, 4}."
      ],
      "metadata": {
        "id": "4nuxgAZWny8B"
      }
    },
    {
      "cell_type": "code",
      "source": [
        "a = {1, 2, 3}\n",
        "b = {2, 3, 4}"
      ],
      "metadata": {
        "id": "fBYRLZ3qnxj4"
      },
      "execution_count": null,
      "outputs": []
    },
    {
      "cell_type": "code",
      "source": [
        "a & b"
      ],
      "metadata": {
        "colab": {
          "base_uri": "https://localhost:8080/"
        },
        "id": "e2SCmzJBn7qE",
        "outputId": "860e2690-d05e-46e3-ff45-39f89cea4948"
      },
      "execution_count": null,
      "outputs": [
        {
          "output_type": "execute_result",
          "data": {
            "text/plain": [
              "{2, 3}"
            ]
          },
          "metadata": {},
          "execution_count": 83
        }
      ]
    },
    {
      "cell_type": "markdown",
      "source": [
        "21.  Write a code to create a dictionary with the keys \"name\", \"age\", and \"city\", and print it."
      ],
      "metadata": {
        "id": "D8PgB2VMn-1M"
      }
    },
    {
      "cell_type": "code",
      "source": [
        "my_dict = {\"name\": \"Malika\", \"age\":44, \"city\": \"Anantapure\"}"
      ],
      "metadata": {
        "id": "NigsdtgXn91O"
      },
      "execution_count": null,
      "outputs": []
    },
    {
      "cell_type": "code",
      "source": [
        "my_dict"
      ],
      "metadata": {
        "colab": {
          "base_uri": "https://localhost:8080/"
        },
        "id": "28AIqGKDoV6W",
        "outputId": "e71d23ac-0e65-4505-9891-90df68ded748"
      },
      "execution_count": null,
      "outputs": [
        {
          "output_type": "execute_result",
          "data": {
            "text/plain": [
              "{'name': 'Malika', 'age': 44, 'city': 'Anantapure'}"
            ]
          },
          "metadata": {},
          "execution_count": 85
        }
      ]
    },
    {
      "cell_type": "markdown",
      "source": [
        "22. Write a code to add a new key-value pair \"country\": \"USA\" to the dictionary {'name': 'John', 'age': 25}."
      ],
      "metadata": {
        "id": "chLK7-4AoZDQ"
      }
    },
    {
      "cell_type": "code",
      "source": [
        "my_dict1 = {\"name\":\"John\", \"age\":25}"
      ],
      "metadata": {
        "id": "cSiAohX8oXTK"
      },
      "execution_count": null,
      "outputs": []
    },
    {
      "cell_type": "code",
      "source": [
        "my_dict1"
      ],
      "metadata": {
        "colab": {
          "base_uri": "https://localhost:8080/"
        },
        "id": "HuQoH40vouuZ",
        "outputId": "7e09bb08-41d0-4e50-d79b-d9b2f89f8076"
      },
      "execution_count": null,
      "outputs": [
        {
          "output_type": "execute_result",
          "data": {
            "text/plain": [
              "{'name': 'John', 'age': 25}"
            ]
          },
          "metadata": {},
          "execution_count": 87
        }
      ]
    },
    {
      "cell_type": "code",
      "source": [
        "my_dict1[\"country\"] = \"USA\""
      ],
      "metadata": {
        "id": "Vb89f8NHowHN"
      },
      "execution_count": null,
      "outputs": []
    },
    {
      "cell_type": "code",
      "source": [
        "my_dict1"
      ],
      "metadata": {
        "colab": {
          "base_uri": "https://localhost:8080/"
        },
        "id": "k43Zgr3Xo-nk",
        "outputId": "33f47593-83cd-441e-f195-a9c01cf035ae"
      },
      "execution_count": null,
      "outputs": [
        {
          "output_type": "execute_result",
          "data": {
            "text/plain": [
              "{'name': 'John', 'age': 25, 'country': 'USA'}"
            ]
          },
          "metadata": {},
          "execution_count": 89
        }
      ]
    },
    {
      "cell_type": "markdown",
      "source": [
        "23.  Write a code to access the value associated with the key \"name\" in the dictionary {'name': 'Alice', 'age': 30}."
      ],
      "metadata": {
        "id": "QNpsHOXzpB0C"
      }
    },
    {
      "cell_type": "code",
      "source": [
        "dict = {\"name\": \"Alice\", \"age\":30}"
      ],
      "metadata": {
        "id": "O6o9Nlj8o_0o"
      },
      "execution_count": null,
      "outputs": []
    },
    {
      "cell_type": "code",
      "source": [
        "dict"
      ],
      "metadata": {
        "colab": {
          "base_uri": "https://localhost:8080/"
        },
        "id": "meyUl5mApbjX",
        "outputId": "9a597bfa-1caf-4935-a8a7-9aace371b24f"
      },
      "execution_count": null,
      "outputs": [
        {
          "output_type": "execute_result",
          "data": {
            "text/plain": [
              "{'name': 'Alice', 'age': 30}"
            ]
          },
          "metadata": {},
          "execution_count": 91
        }
      ]
    },
    {
      "cell_type": "code",
      "source": [
        "dict[\"name\"]"
      ],
      "metadata": {
        "colab": {
          "base_uri": "https://localhost:8080/",
          "height": 36
        },
        "id": "ejApxJKIpcNP",
        "outputId": "34578210-f9ba-4b70-87d4-3b6e0e9da1c5"
      },
      "execution_count": null,
      "outputs": [
        {
          "output_type": "execute_result",
          "data": {
            "text/plain": [
              "'Alice'"
            ],
            "application/vnd.google.colaboratory.intrinsic+json": {
              "type": "string"
            }
          },
          "metadata": {},
          "execution_count": 93
        }
      ]
    },
    {
      "cell_type": "markdown",
      "source": [
        "24. Write a code to remove the key \"age\" from the dictionary {'name': 'Bob', 'age': 22, 'city': 'New York'}."
      ],
      "metadata": {
        "id": "oDRb5ufepsf7"
      }
    },
    {
      "cell_type": "code",
      "source": [
        "my_dict = {\"name\":\"Bob\", \"age\":22, \"city\":\"New York\"}"
      ],
      "metadata": {
        "id": "wJ-vI5r0phZd"
      },
      "execution_count": null,
      "outputs": []
    },
    {
      "cell_type": "code",
      "source": [
        "my_dict"
      ],
      "metadata": {
        "colab": {
          "base_uri": "https://localhost:8080/"
        },
        "id": "Usos7ZFJp9-P",
        "outputId": "7a194501-b994-4ea1-d99e-0fd41b0baf74"
      },
      "execution_count": null,
      "outputs": [
        {
          "output_type": "execute_result",
          "data": {
            "text/plain": [
              "{'name': 'Bob', 'age': 22, 'city': 'New York'}"
            ]
          },
          "metadata": {},
          "execution_count": 95
        }
      ]
    },
    {
      "cell_type": "code",
      "source": [
        "del my_dict[\"age\"]\n"
      ],
      "metadata": {
        "id": "ywkh-umHp_NU"
      },
      "execution_count": null,
      "outputs": []
    },
    {
      "cell_type": "code",
      "source": [
        "my_dict"
      ],
      "metadata": {
        "colab": {
          "base_uri": "https://localhost:8080/"
        },
        "id": "WPsovjyuqXiH",
        "outputId": "12006698-4be3-4b5a-9477-e9bbf9971518"
      },
      "execution_count": null,
      "outputs": [
        {
          "output_type": "execute_result",
          "data": {
            "text/plain": [
              "{'name': 'Bob', 'city': 'New York'}"
            ]
          },
          "metadata": {},
          "execution_count": 97
        }
      ]
    },
    {
      "cell_type": "markdown",
      "source": [
        "25. Write a code to check if the key \"city\" exists in the dictionary {'name': 'Alice', 'city': 'Paris'}."
      ],
      "metadata": {
        "id": "2B28MSexqa5j"
      }
    },
    {
      "cell_type": "code",
      "source": [
        "dict = {\"name\":\"Alice\", \"city\":\"Paris\"}"
      ],
      "metadata": {
        "id": "FMUBdnAsqYzz"
      },
      "execution_count": null,
      "outputs": []
    },
    {
      "cell_type": "code",
      "source": [
        "dict"
      ],
      "metadata": {
        "colab": {
          "base_uri": "https://localhost:8080/"
        },
        "id": "IEh00CoEqrQy",
        "outputId": "27894be0-32b4-4ce3-99f1-18902e68a53b"
      },
      "execution_count": null,
      "outputs": [
        {
          "output_type": "execute_result",
          "data": {
            "text/plain": [
              "{'name': 'Alice', 'city': 'Paris'}"
            ]
          },
          "metadata": {},
          "execution_count": 99
        }
      ]
    },
    {
      "cell_type": "code",
      "source": [
        "dict = {\"name\":\"Alice\", \"city\":\"Paris\"}\n",
        "if 'city' in dict:\n",
        "  print(\"key 'city' exist in the dictionary\")\n",
        "else:\n",
        "  print(\"key 'city' doesn't exist in the dictionary\")"
      ],
      "metadata": {
        "colab": {
          "base_uri": "https://localhost:8080/"
        },
        "id": "mZiE2LS_qsEB",
        "outputId": "baa904ae-e7a9-4d38-e547-6db38139ba85"
      },
      "execution_count": null,
      "outputs": [
        {
          "output_type": "stream",
          "name": "stdout",
          "text": [
            "key 'city' exist in the dictionary\n"
          ]
        }
      ]
    },
    {
      "cell_type": "markdown",
      "source": [
        "26.  Write a code to create a list, a tuple, and a dictionary, and print them all."
      ],
      "metadata": {
        "id": "QoDaux7yrb9p"
      }
    },
    {
      "cell_type": "code",
      "source": [
        "list = [\"yamini\", \"Nandini\", 2, 2.2, \"true\"]\n",
        "tuple = (1, 2, 3, 4)\n",
        "my_dict = {\"name\":\"Yeshu\", \"age\": 22, \"city\": \"USA\"}"
      ],
      "metadata": {
        "id": "20Nv_pc3qz9B"
      },
      "execution_count": null,
      "outputs": []
    },
    {
      "cell_type": "code",
      "source": [
        "print(list)\n",
        "print(tuple)\n",
        "print(my_dict)"
      ],
      "metadata": {
        "colab": {
          "base_uri": "https://localhost:8080/"
        },
        "id": "_Al-aEfMsLBb",
        "outputId": "7c62c352-4080-4a58-d721-2768529f5f8e"
      },
      "execution_count": null,
      "outputs": [
        {
          "output_type": "stream",
          "name": "stdout",
          "text": [
            "['yamini', 'Nandini', 2, 2.2, 'true']\n",
            "(1, 2, 3, 4)\n",
            "{'name': 'Yeshu', 'age': 22, 'city': 'USA'}\n"
          ]
        }
      ]
    },
    {
      "cell_type": "markdown",
      "source": [
        "27.  Write a code to create a list of 5 random numbers between 1 and 100, sort it in ascending order, and print the\n",
        "result.(replaced)"
      ],
      "metadata": {
        "id": "KMncSXacsfpu"
      }
    },
    {
      "cell_type": "code",
      "source": [
        "import random"
      ],
      "metadata": {
        "id": "VUUoA05vsOYf"
      },
      "execution_count": null,
      "outputs": []
    },
    {
      "cell_type": "code",
      "source": [
        "numbers = [random.randint(1, 100) for _ in range(5)]"
      ],
      "metadata": {
        "id": "DyX6DwnptHVo"
      },
      "execution_count": null,
      "outputs": []
    },
    {
      "cell_type": "code",
      "source": [
        "numbers.sort()"
      ],
      "metadata": {
        "id": "Y8Ds_Oq_uAP0"
      },
      "execution_count": null,
      "outputs": []
    },
    {
      "cell_type": "code",
      "source": [
        "print(\"sorted list:\", numbers)"
      ],
      "metadata": {
        "colab": {
          "base_uri": "https://localhost:8080/"
        },
        "id": "MGdHxFrHuMrr",
        "outputId": "56f7be22-5e81-4ee2-bca1-cbc6f6d32969"
      },
      "execution_count": null,
      "outputs": [
        {
          "output_type": "stream",
          "name": "stdout",
          "text": [
            "sorted list: [11, 35, 41, 61, 68]\n"
          ]
        }
      ]
    },
    {
      "cell_type": "markdown",
      "source": [
        "28.  Write a code to create a list with strings and print the element at the third index.\n",
        "\n"
      ],
      "metadata": {
        "id": "pJhjLIc3ueUW"
      }
    },
    {
      "cell_type": "code",
      "source": [
        "fruits = [\"orange\", \"papaya\", \"apple\", \"banana\"]"
      ],
      "metadata": {
        "id": "d7gKr-NsuUC3"
      },
      "execution_count": null,
      "outputs": []
    },
    {
      "cell_type": "code",
      "source": [
        "print(fruits[3])"
      ],
      "metadata": {
        "colab": {
          "base_uri": "https://localhost:8080/"
        },
        "id": "eeYnW7yWu0N5",
        "outputId": "d0b63b73-8d09-42d5-f640-5b11895edcda"
      },
      "execution_count": null,
      "outputs": [
        {
          "output_type": "stream",
          "name": "stdout",
          "text": [
            "banana\n"
          ]
        }
      ]
    },
    {
      "cell_type": "markdown",
      "source": [
        "29.  Write a code to combine two dictionaries into one and print the result."
      ],
      "metadata": {
        "id": "zK4Ln2n2u7Oy"
      }
    },
    {
      "cell_type": "code",
      "source": [
        "dict1 = {\"name\":\"sailaja\", \"age\":42}\n",
        "dict2 = {\"city\":\"paris\", \"country\":\"USA\"}"
      ],
      "metadata": {
        "id": "uAv66YbUu3-1"
      },
      "execution_count": null,
      "outputs": []
    },
    {
      "cell_type": "code",
      "source": [
        "dict1.update(dict2)"
      ],
      "metadata": {
        "id": "whz8ytmwvYHZ"
      },
      "execution_count": null,
      "outputs": []
    },
    {
      "cell_type": "code",
      "source": [
        "print(\"combined dictionary\", dict1)"
      ],
      "metadata": {
        "colab": {
          "base_uri": "https://localhost:8080/"
        },
        "id": "b4WO_BPovauU",
        "outputId": "d6f55540-f7d0-4bc7-da88-54cacbcf2345"
      },
      "execution_count": null,
      "outputs": [
        {
          "output_type": "stream",
          "name": "stdout",
          "text": [
            "combined dictionary {'name': 'sailaja', 'age': 42, 'city': 'paris', 'country': 'USA'}\n"
          ]
        }
      ]
    },
    {
      "cell_type": "markdown",
      "source": [
        "30.  Write a code to convert a list of strings into a set."
      ],
      "metadata": {
        "id": "kbMg5T71vqrG"
      }
    },
    {
      "cell_type": "code",
      "source": [
        "list_strings = [\"yamini\", \"Nandini\", \"Venu\", \"Malike\"]"
      ],
      "metadata": {
        "id": "LWWYWFt3vp_b"
      },
      "execution_count": null,
      "outputs": []
    },
    {
      "cell_type": "code",
      "source": [
        "list_set = set(list_strings)"
      ],
      "metadata": {
        "id": "Cmw1duM7v6W5"
      },
      "execution_count": null,
      "outputs": []
    },
    {
      "cell_type": "code",
      "source": [
        "print(list_set)"
      ],
      "metadata": {
        "colab": {
          "base_uri": "https://localhost:8080/"
        },
        "id": "x3XYpphdwBJf",
        "outputId": "ffda75c2-bd6b-44b7-ceef-2273ca123208"
      },
      "execution_count": null,
      "outputs": [
        {
          "output_type": "stream",
          "name": "stdout",
          "text": [
            "{'Venu', 'Nandini', 'Malike', 'yamini'}\n"
          ]
        }
      ]
    },
    {
      "cell_type": "code",
      "source": [],
      "metadata": {
        "id": "WpBfDtUbwFBs"
      },
      "execution_count": null,
      "outputs": []
    }
  ]
}